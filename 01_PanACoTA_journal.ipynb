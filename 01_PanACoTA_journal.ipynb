{
 "cells": [
  {
   "cell_type": "markdown",
   "metadata": {},
   "source": [
    "# **CHAPTER 1. Pangenome analysis**"
   ]
  },
  {
   "cell_type": "markdown",
   "metadata": {},
   "source": [
    "**Install conda env and activate it**"
   ]
  },
  {
   "cell_type": "markdown",
   "metadata": {},
   "source": [
    "```\n",
    "conda env create -f panacota.yaml\n",
    "```\n",
    "\n",
    "```\n",
    "conda activate panacota\n",
    "```"
   ]
  },
  {
   "cell_type": "markdown",
   "metadata": {},
   "source": [
    "Make a directory to store the data"
   ]
  },
  {
   "cell_type": "code",
   "execution_count": 11,
   "metadata": {},
   "outputs": [],
   "source": [
    "! mkdir data/"
   ]
  },
  {
   "cell_type": "markdown",
   "metadata": {},
   "source": [
    "Download sequences from `RefSeq` database that match the query `\"Salmonella phage\" AND \"complete genome\"`"
   ]
  },
  {
   "cell_type": "code",
   "execution_count": null,
   "metadata": {},
   "outputs": [],
   "source": [
    "! esearch -db nucleotide \\\n",
    "    -query '\"Salmonella phage\" AND \"complete genome\" AND srcdb_refseq[PROP] ' \\\n",
    "    | efetch -format fasta > data/salmonella_raw.fasta"
   ]
  },
  {
   "cell_type": "markdown",
   "metadata": {},
   "source": [
    "In the `data/salmonella_raw.fasta` there are many strange sequences like `>NZ_CP019649.1 Salmonella enterica subsp. enterica serovar Typhimurium var. monophasic 4,5,12:i:- strain TW-Stm6 chromosome, complete genome` etc.<br>\n",
    "Eventhough the query to `RefSeq` database was clear there are still a lot of junk in `.fasta` file.<br>\n",
    "Let's remove it!<br>\n",
    "The script below will leave only sequences that has `Salmonella phage` and `complete genome` in their descriptions."
   ]
  },
  {
   "cell_type": "code",
   "execution_count": null,
   "metadata": {},
   "outputs": [],
   "source": [
    "%run scripts/filter_seqs.py data/salmonella_raw.fasta data/salmonella_251_refseq.fasta"
   ]
  },
  {
   "cell_type": "markdown",
   "metadata": {},
   "source": [
    "Now it's time to separate sequences!<br>\n",
    "The script below will take the `.fasta` file with 251 sequences for the input and will store seaparate sequences in the output directory."
   ]
  },
  {
   "cell_type": "code",
   "execution_count": 1,
   "metadata": {},
   "outputs": [
    {
     "name": "stdout",
     "output_type": "stream",
     "text": [
      "Written Salmonella_phages/NC_049439.1.fasta\n",
      "Written Salmonella_phages/NC_049440.1.fasta\n",
      "Written Salmonella_phages/NC_041991.1.fasta\n",
      "Written Salmonella_phages/NC_073205.1.fasta\n",
      "Written Salmonella_phages/NC_021777.1.fasta\n",
      "Written Salmonella_phages/NC_028698.1.fasta\n",
      "Written Salmonella_phages/NC_049502.1.fasta\n",
      "Written Salmonella_phages/NC_049499.1.fasta\n",
      "Written Salmonella_phages/NC_049505.1.fasta\n",
      "Written Salmonella_phages/NC_049504.1.fasta\n",
      "Written Salmonella_phages/NC_049501.1.fasta\n",
      "Written Salmonella_phages/NC_049506.1.fasta\n",
      "Written Salmonella_phages/NC_049503.1.fasta\n",
      "Written Salmonella_phages/NC_049500.1.fasta\n",
      "Written Salmonella_phages/NC_049508.1.fasta\n",
      "Written Salmonella_phages/NC_049507.1.fasta\n",
      "Written Salmonella_phages/NC_021775.1.fasta\n",
      "Written Salmonella_phages/NC_073217.1.fasta\n",
      "Written Salmonella_phages/NC_073201.1.fasta\n",
      "Written Salmonella_phages/NC_073173.1.fasta\n",
      "Written Salmonella_phages/NC_048110.1.fasta\n",
      "Written Salmonella_phages/NC_073218.1.fasta\n",
      "Written Salmonella_phages/NC_073202.1.fasta\n",
      "Written Salmonella_phages/NC_073172.1.fasta\n",
      "Written Salmonella_phages/NC_073219.1.fasta\n",
      "Written Salmonella_phages/NC_073180.1.fasta\n",
      "Written Salmonella_phages/NC_073174.1.fasta\n",
      "Written Salmonella_phages/NC_073171.1.fasta\n",
      "Written Salmonella_phages/NC_073213.1.fasta\n",
      "Written Salmonella_phages/NC_048864.1.fasta\n",
      "Written Salmonella_phages/NC_048863.1.fasta\n",
      "Written Salmonella_phages/NC_018279.1.fasta\n",
      "Written Salmonella_phages/NC_048872.1.fasta\n",
      "Written Salmonella_phages/NC_048871.1.fasta\n",
      "Written Salmonella_phages/NC_048870.1.fasta\n",
      "Written Salmonella_phages/NC_048869.1.fasta\n",
      "Written Salmonella_phages/NC_048867.1.fasta\n",
      "Written Salmonella_phages/NC_048866.1.fasta\n",
      "Written Salmonella_phages/NC_024122.1.fasta\n",
      "Written Salmonella_phages/NC_048868.1.fasta\n",
      "Written Salmonella_phages/NC_048865.1.fasta\n",
      "Written Salmonella_phages/NC_029045.1.fasta\n",
      "Written Salmonella_phages/NC_009232.2.fasta\n",
      "Written Salmonella_phages/NC_049821.1.fasta\n",
      "Written Salmonella_phages/NC_018275.1.fasta\n",
      "Written Salmonella_phages/NC_016071.1.fasta\n",
      "Written Salmonella_phages/NC_010391.1.fasta\n",
      "Written Salmonella_phages/NC_048632.1.fasta\n",
      "Written Salmonella_phages/NC_021774.1.fasta\n",
      "Written Salmonella_phages/NC_073214.1.fasta\n",
      "Written Salmonella_phages/NC_073198.1.fasta\n",
      "Written Salmonella_phages/NC_073197.1.fasta\n",
      "Written Salmonella_phages/NC_073186.1.fasta\n",
      "Written Salmonella_phages/NC_070911.1.fasta\n",
      "Written Salmonella_phages/NC_070846.1.fasta\n",
      "Written Salmonella_phages/NC_069151.1.fasta\n",
      "Written Salmonella_phages/NC_069148.1.fasta\n",
      "Written Salmonella_phages/NC_031128.1.fasta\n",
      "Written Salmonella_phages/NC_027329.1.fasta\n",
      "Written Salmonella_phages/NC_027351.1.fasta\n",
      "Written Salmonella_phages/NC_021772.1.fasta\n",
      "Written Salmonella_phages/NC_019539.1.fasta\n",
      "Written Salmonella_phages/NC_019488.1.fasta\n",
      "Written Salmonella_phages/NC_013059.1.fasta\n",
      "Written Salmonella_phages/NC_010495.1.fasta\n",
      "Written Salmonella_phages/NC_069146.1.fasta\n",
      "Written Salmonella_phages/NC_073216.1.fasta\n",
      "Written Salmonella_phages/NC_073179.1.fasta\n",
      "Written Salmonella_phages/NC_073178.1.fasta\n",
      "Written Salmonella_phages/NC_073177.1.fasta\n",
      "Written Salmonella_phages/NC_071038.1.fasta\n",
      "Written Salmonella_phages/NC_071037.1.fasta\n",
      "Written Salmonella_phages/NC_071010.1.fasta\n",
      "Written Salmonella_phages/NC_071009.1.fasta\n",
      "Written Salmonella_phages/NC_054648.1.fasta\n",
      "Written Salmonella_phages/NC_021780.1.fasta\n",
      "Written Salmonella_phages/NC_021779.1.fasta\n",
      "Written Salmonella_phages/NC_069150.1.fasta\n",
      "Written Salmonella_phages/NC_048683.1.fasta\n",
      "Written Salmonella_phages/NC_047941.1.fasta\n",
      "Written Salmonella_phages/NC_042097.1.fasta\n",
      "Written Salmonella_phages/NC_042096.1.fasta\n",
      "Written Salmonella_phages/NC_042044.1.fasta\n",
      "Written Salmonella_phages/NC_027119.1.fasta\n",
      "Written Salmonella_phages/NC_025443.1.fasta\n",
      "Written Salmonella_phages/NC_021782.1.fasta\n",
      "Written Salmonella_phages/NC_019530.1.fasta\n",
      "Written Salmonella_phages/NC_011976.1.fasta\n",
      "Written Salmonella_phages/NC_070779.1.fasta\n",
      "Written Salmonella_phages/NC_073747.1.fasta\n",
      "Written Salmonella_phages/NC_073215.1.fasta\n",
      "Written Salmonella_phages/NC_073212.1.fasta\n",
      "Written Salmonella_phages/NC_073211.1.fasta\n",
      "Written Salmonella_phages/NC_073210.1.fasta\n",
      "Written Salmonella_phages/NC_073209.1.fasta\n",
      "Written Salmonella_phages/NC_073208.1.fasta\n",
      "Written Salmonella_phages/NC_073207.1.fasta\n",
      "Written Salmonella_phages/NC_073206.1.fasta\n",
      "Written Salmonella_phages/NC_073204.1.fasta\n",
      "Written Salmonella_phages/NC_073203.1.fasta\n",
      "Written Salmonella_phages/NC_073200.1.fasta\n",
      "Written Salmonella_phages/NC_073199.1.fasta\n",
      "Written Salmonella_phages/NC_073196.1.fasta\n",
      "Written Salmonella_phages/NC_073195.1.fasta\n",
      "Written Salmonella_phages/NC_073194.1.fasta\n",
      "Written Salmonella_phages/NC_073193.1.fasta\n",
      "Written Salmonella_phages/NC_073192.1.fasta\n",
      "Written Salmonella_phages/NC_073191.1.fasta\n",
      "Written Salmonella_phages/NC_073190.1.fasta\n",
      "Written Salmonella_phages/NC_073189.1.fasta\n",
      "Written Salmonella_phages/NC_073188.1.fasta\n",
      "Written Salmonella_phages/NC_073187.1.fasta\n",
      "Written Salmonella_phages/NC_073185.1.fasta\n",
      "Written Salmonella_phages/NC_073184.1.fasta\n",
      "Written Salmonella_phages/NC_073183.1.fasta\n",
      "Written Salmonella_phages/NC_073181.1.fasta\n",
      "Written Salmonella_phages/NC_073170.1.fasta\n",
      "Written Salmonella_phages/NC_073169.1.fasta\n",
      "Written Salmonella_phages/NC_070974.1.fasta\n",
      "Written Salmonella_phages/NC_055921.1.fasta\n",
      "Written Salmonella_phages/NC_054937.1.fasta\n",
      "Written Salmonella_phages/NC_054646.1.fasta\n",
      "Written Salmonella_phages/NC_052999.1.fasta\n",
      "Written Salmonella_phages/NC_049509.1.fasta\n",
      "Written Salmonella_phages/NC_049497.1.fasta\n",
      "Written Salmonella_phages/NC_049496.1.fasta\n",
      "Written Salmonella_phages/NC_049495.1.fasta\n",
      "Written Salmonella_phages/NC_049459.1.fasta\n",
      "Written Salmonella_phages/NC_048862.1.fasta\n",
      "Written Salmonella_phages/NC_048852.1.fasta\n",
      "Written Salmonella_phages/NC_048819.1.fasta\n",
      "Written Salmonella_phages/NC_048811.1.fasta\n",
      "Written Salmonella_phages/NC_048809.1.fasta\n",
      "Written Salmonella_phages/NC_048794.1.fasta\n",
      "Written Salmonella_phages/NC_027297.1.fasta\n",
      "Written Salmonella_phages/NC_021783.1.fasta\n",
      "Written Salmonella_phages/NC_019417.1.fasta\n",
      "Written Salmonella_phages/NC_015296.1.fasta\n",
      "Written Salmonella_phages/NC_015269.1.fasta\n",
      "Written Salmonella_phages/NC_002371.2.fasta\n",
      "Written Salmonella_phages/NC_069152.1.fasta\n",
      "Written Salmonella_phages/NC_069149.1.fasta\n",
      "Written Salmonella_phages/NC_069147.1.fasta\n",
      "Written Salmonella_phages/NC_054647.1.fasta\n",
      "Written Salmonella_phages/NC_054643.1.fasta\n",
      "Written Salmonella_phages/NC_054642.1.fasta\n",
      "Written Salmonella_phages/NC_054640.1.fasta\n",
      "Written Salmonella_phages/NC_054639.1.fasta\n",
      "Written Salmonella_phages/NC_054638.1.fasta\n",
      "Written Salmonella_phages/NC_053000.1.fasta\n",
      "Written Salmonella_phages/NC_049512.1.fasta\n",
      "Written Salmonella_phages/NC_049460.1.fasta\n",
      "Written Salmonella_phages/NC_049458.1.fasta\n",
      "Written Salmonella_phages/NC_049443.1.fasta\n",
      "Written Salmonella_phages/NC_049437.1.fasta\n",
      "Written Salmonella_phages/NC_049428.1.fasta\n",
      "Written Salmonella_phages/NC_048795.1.fasta\n",
      "Written Salmonella_phages/NC_048786.1.fasta\n",
      "Written Salmonella_phages/NC_048781.1.fasta\n",
      "Written Salmonella_phages/NC_048764.1.fasta\n",
      "Written Salmonella_phages/NC_048763.1.fasta\n",
      "Written Salmonella_phages/NC_048760.1.fasta\n",
      "Written Salmonella_phages/NC_048727.1.fasta\n",
      "Written Salmonella_phages/NC_048179.1.fasta\n",
      "Written Salmonella_phages/NC_048149.1.fasta\n",
      "Written Salmonella_phages/NC_048145.1.fasta\n",
      "Written Salmonella_phages/NC_048113.1.fasta\n",
      "Written Salmonella_phages/NC_048105.1.fasta\n",
      "Written Salmonella_phages/NC_048089.1.fasta\n",
      "Written Salmonella_phages/NC_048062.1.fasta\n",
      "Written Salmonella_phages/NC_048013.1.fasta\n",
      "Written Salmonella_phages/NC_048012.1.fasta\n",
      "Written Salmonella_phages/NC_048011.1.fasta\n",
      "Written Salmonella_phages/NC_048010.1.fasta\n",
      "Written Salmonella_phages/NC_048009.1.fasta\n",
      "Written Salmonella_phages/NC_048008.1.fasta\n",
      "Written Salmonella_phages/NC_048007.1.fasta\n",
      "Written Salmonella_phages/NC_048006.1.fasta\n",
      "Written Salmonella_phages/NC_048005.1.fasta\n",
      "Written Salmonella_phages/NC_048004.1.fasta\n",
      "Written Salmonella_phages/NC_047947.1.fasta\n",
      "Written Salmonella_phages/NC_047898.1.fasta\n",
      "Written Salmonella_phages/NC_042025.1.fasta\n",
      "Written Salmonella_phages/NC_054645.1.fasta\n",
      "Written Salmonella_phages/NC_049382.1.fasta\n",
      "Written Salmonella_phages/NC_049378.1.fasta\n",
      "Written Salmonella_phages/NC_048655.1.fasta\n",
      "Written Salmonella_phages/NC_048649.1.fasta\n",
      "Written Salmonella_phages/NC_048648.1.fasta\n",
      "Written Salmonella_phages/NC_047875.1.fasta\n",
      "Written Salmonella_phages/NC_047859.1.fasta\n",
      "Written Salmonella_phages/NC_047786.1.fasta\n",
      "Written Salmonella_phages/NC_041922.1.fasta\n",
      "Written Salmonella_phages/NC_031045.1.fasta\n",
      "Written Salmonella_phages/NC_031021.1.fasta\n",
      "Written Salmonella_phages/NC_031933.1.fasta\n",
      "Written Salmonella_phages/NC_031925.1.fasta\n",
      "Written Salmonella_phages/NC_031918.1.fasta\n",
      "Written Salmonella_phages/NC_031946.1.fasta\n",
      "Written Salmonella_phages/NC_031940.1.fasta\n",
      "Written Salmonella_phages/NC_031939.1.fasta\n",
      "Written Salmonella_phages/NC_031930.1.fasta\n",
      "Written Salmonella_phages/NC_031924.1.fasta\n",
      "Written Salmonella_phages/NC_031902.1.fasta\n",
      "Written Salmonella_phages/NC_031129.1.fasta\n",
      "Written Salmonella_phages/NC_031026.1.fasta\n",
      "Written Salmonella_phages/NC_031065.1.fasta\n",
      "Written Salmonella_phages/NC_030919.1.fasta\n",
      "Written Salmonella_phages/NC_048785.1.fasta\n",
      "Written Salmonella_phages/NC_047753.1.fasta\n",
      "Written Salmonella_phages/NC_041992.1.fasta\n",
      "Written Salmonella_phages/NC_041923.1.fasta\n",
      "Written Salmonella_phages/NC_029003.2.fasta\n",
      "Written Salmonella_phages/NC_028696.2.fasta\n",
      "Written Salmonella_phages/NC_029015.2.fasta\n",
      "Written Salmonella_phages/NC_028701.2.fasta\n",
      "Written Salmonella_phages/NC_031228.1.fasta\n",
      "Written Salmonella_phages/NC_031250.1.fasta\n",
      "Written Salmonella_phages/NC_031271.1.fasta\n",
      "Written Salmonella_phages/NC_031258.1.fasta\n",
      "Written Salmonella_phages/NC_031042.1.fasta\n",
      "Written Salmonella_phages/NC_029071.1.fasta\n",
      "Written Salmonella_phages/NC_029042.1.fasta\n",
      "Written Salmonella_phages/NC_028754.1.fasta\n",
      "Written Salmonella_phages/NC_028699.1.fasta\n",
      "Written Salmonella_phages/NC_026607.2.fasta\n",
      "Written Salmonella_phages/NC_027402.1.fasta\n",
      "Written Salmonella_phages/NC_027344.1.fasta\n",
      "Written Salmonella_phages/NC_026017.1.fasta\n",
      "Written Salmonella_phages/NC_024204.1.fasta\n",
      "Written Salmonella_phages/NC_022768.1.fasta\n",
      "Written Salmonella_phages/NC_023856.1.fasta\n",
      "Written Salmonella_phages/NC_023608.1.fasta\n",
      "Written Salmonella_phages/NC_022772.1.fasta\n",
      "Written Salmonella_phages/NC_022754.1.fasta\n",
      "Written Salmonella_phages/NC_022752.1.fasta\n",
      "Written Salmonella_phages/NC_020416.1.fasta\n",
      "Written Salmonella_phages/NC_019910.1.fasta\n",
      "Written Salmonella_phages/NC_019545.1.fasta\n",
      "Written Salmonella_phages/NC_018843.1.fasta\n",
      "Written Salmonella_phages/NC_017985.1.fasta\n",
      "Written Salmonella_phages/NC_016763.1.fasta\n",
      "Written Salmonella_phages/NC_016761.1.fasta\n",
      "Written Salmonella_phages/NC_006940.2.fasta\n",
      "Written Salmonella_phages/NC_016073.1.fasta\n",
      "Written Salmonella_phages/NC_015938.1.fasta\n",
      "Written Salmonella_phages/NC_014900.1.fasta\n",
      "Written Salmonella_phages/NC_010807.1.fasta\n",
      "Written Salmonella_phages/NC_004313.1.fasta\n",
      "Written Salmonella_phages/NC_020414.2.fasta\n",
      "Written Salmonella_phages/NC_025442.1.fasta\n"
     ]
    }
   ],
   "source": [
    "%run scripts/sepfasta.py data/salmonella_251_refseq.fasta Salmonella_phages"
   ]
  },
  {
   "cell_type": "markdown",
   "metadata": {},
   "source": [
    "Create the `listFile` file which will have the names of each file<br>\n",
    "It is required to run `PanACoTA`"
   ]
  },
  {
   "cell_type": "code",
   "execution_count": null,
   "metadata": {},
   "outputs": [],
   "source": [
    "! ls Salmonella_phages/ > data/listFile"
   ]
  },
  {
   "cell_type": "markdown",
   "metadata": {},
   "source": [
    "Annotate each genome of `Salmonella phage` that we took in the analysis"
   ]
  },
  {
   "cell_type": "code",
   "execution_count": null,
   "metadata": {},
   "outputs": [],
   "source": [
    "! PanACoTA annotate -d Salmonella_phages/ -r Annotation -n SaPh -l data/listFile --threads 24"
   ]
  },
  {
   "cell_type": "markdown",
   "metadata": {},
   "source": [
    "Build the pangenome and set the parameter of minimum identity to 80%"
   ]
  },
  {
   "cell_type": "code",
   "execution_count": null,
   "metadata": {},
   "outputs": [],
   "source": [
    "! PanACoTA pangenome -l Annotation/LSTINFO-.lst -n SaPh -d Annotation/Proteins/ -o Pangenome -i 0.8"
   ]
  },
  {
   "cell_type": "markdown",
   "metadata": {},
   "source": [
    "Find genes that has 80% identity in at least 28% of genomes"
   ]
  },
  {
   "cell_type": "code",
   "execution_count": null,
   "metadata": {},
   "outputs": [],
   "source": [
    "! PanACoTA corepers -p Pangenome/PanGenome-SaPh.All.prt-clust-0.8-mode1.lst -o Coregenome -t 0.28"
   ]
  },
  {
   "cell_type": "markdown",
   "metadata": {},
   "source": [
    "Filter `Annotation/LSTINFO-.lst` file and leave there only entries that persist in `Coregenome` output"
   ]
  },
  {
   "cell_type": "code",
   "execution_count": 25,
   "metadata": {},
   "outputs": [
    {
     "name": "stdout",
     "output_type": "stream",
     "text": [
      "Filtered file created: Annotation/filtered_LSTINFO-.lst\n"
     ]
    }
   ],
   "source": [
    "%run scripts/process_LSTINFO.py Coregenome/PersGenome_PanGenome-SaPh.All.prt-clust-0.8-mode1.lst-all_0.28.lst Annotation/LSTINFO-.lst Annotation/filtered_LSTINFO-.lst"
   ]
  },
  {
   "cell_type": "markdown",
   "metadata": {},
   "source": [
    "Perform a Multiple Sequences Alignment of that one gene that was identified to have 80% identity in 28% of genomes!"
   ]
  },
  {
   "cell_type": "code",
   "execution_count": null,
   "metadata": {},
   "outputs": [],
   "source": [
    "! PanACoTA align -c Coregenome/PersGenome_PanGenome-SaPh.All.prt-clust-0.8-mode1.lst-all_0.28.lst -l Annotation/filtered_LSTINFO-.lst -n SaPh -d Annotation/ -o Alignment"
   ]
  },
  {
   "cell_type": "markdown",
   "metadata": {},
   "source": [
    "That's all! Proceed to the `02_DECIPHER_journal.R` to design degenerative PCR primers for that gene!"
   ]
  }
 ],
 "metadata": {
  "kernelspec": {
   "display_name": "panacota",
   "language": "python",
   "name": "python3"
  },
  "language_info": {
   "codemirror_mode": {
    "name": "ipython",
    "version": 3
   },
   "file_extension": ".py",
   "mimetype": "text/x-python",
   "name": "python",
   "nbconvert_exporter": "python",
   "pygments_lexer": "ipython3",
   "version": "3.12.4"
  }
 },
 "nbformat": 4,
 "nbformat_minor": 2
}
