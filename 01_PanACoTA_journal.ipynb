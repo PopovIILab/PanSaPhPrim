{
 "cells": [
  {
   "cell_type": "markdown",
   "metadata": {},
   "source": [
    "# **CHAPTER 1. Pangenome analysis**"
   ]
  },
  {
   "cell_type": "markdown",
   "metadata": {},
   "source": [
    "**Install conda env and activate it**"
   ]
  },
  {
   "cell_type": "markdown",
   "metadata": {},
   "source": [
    "```\n",
    "conda env create -f panacota.yaml\n",
    "```\n",
    "\n",
    "```\n",
    "conda activate panacota\n",
    "```"
   ]
  },
  {
   "cell_type": "markdown",
   "metadata": {},
   "source": [
    "Make a directory to store the data"
   ]
  },
  {
   "cell_type": "code",
   "execution_count": 11,
   "metadata": {},
   "outputs": [],
   "source": [
    "! mkdir data/"
   ]
  },
  {
   "cell_type": "markdown",
   "metadata": {},
   "source": [
    "Download sequences from `RefSeq` database that match the query `\"Salmonella phage\" AND \"complete genome\"`"
   ]
  },
  {
   "cell_type": "code",
   "execution_count": null,
   "metadata": {},
   "outputs": [],
   "source": [
    "! esearch -db nucleotide \\\n",
    "    -query '\"Salmonella phage\" AND \"complete genome\" AND srcdb_refseq[PROP] ' \\\n",
    "    | efetch -format fasta > data/salmonella_raw.fasta"
   ]
  },
  {
   "cell_type": "markdown",
   "metadata": {},
   "source": [
    "In the `data/salmonella_raw.fasta` there are many strange sequences like `>NZ_CP019649.1 Salmonella enterica subsp. enterica serovar Typhimurium var. monophasic 4,5,12:i:- strain TW-Stm6 chromosome, complete genome` etc.<br>\n",
    "Eventhough the query to `RefSeq` database was clear there are still a lot of junk in `.fasta` file.<br>\n",
    "Let's remove it!<br>\n",
    "The script below will leave only sequences that has `Salmonella phage` and `complete genome` in their descriptions."
   ]
  },
  {
   "cell_type": "code",
   "execution_count": null,
   "metadata": {},
   "outputs": [],
   "source": [
    "%run scripts/filter_seqs.py data/salmonella_raw.fasta data/salmonella_251_refseq.fasta"
   ]
  },
  {
   "cell_type": "markdown",
   "metadata": {},
   "source": [
    "Now it's time to separate sequences!<br>\n",
    "The script below will take the `.fasta` file with 251 sequences for the input and will store seaparate sequences in the output directory."
   ]
  },
  {
   "cell_type": "code",
   "execution_count": 1,
   "metadata": {},
   "outputs": [
    {
     "name": "stdout",
     "output_type": "stream",
     "text": [
      "Separated fasta files are written to Salmonella_phages directory\n"
     ]
    }
   ],
   "source": [
    "%run scripts/sepfasta.py data/salmonella_251_refseq.fasta Salmonella_phages"
   ]
  },
  {
   "cell_type": "markdown",
   "metadata": {},
   "source": [
    "Create the `listFile` file which will have the names of each file<br>\n",
    "It is required to run `PanACoTA`"
   ]
  },
  {
   "cell_type": "code",
   "execution_count": null,
   "metadata": {},
   "outputs": [],
   "source": [
    "! ls Salmonella_phages/ > data/listFile"
   ]
  },
  {
   "cell_type": "markdown",
   "metadata": {},
   "source": [
    "Annotate each genome of `Salmonella phage` that we took in the analysis"
   ]
  },
  {
   "cell_type": "code",
   "execution_count": null,
   "metadata": {},
   "outputs": [],
   "source": [
    "! PanACoTA annotate -d Salmonella_phages/ -r Annotation -n SaPh -l data/listFile --threads 24"
   ]
  },
  {
   "cell_type": "markdown",
   "metadata": {},
   "source": [
    "Build the pangenome and set the parameter of minimum identity to 80%"
   ]
  },
  {
   "cell_type": "code",
   "execution_count": null,
   "metadata": {},
   "outputs": [],
   "source": [
    "! PanACoTA pangenome -l Annotation/LSTINFO-.lst -n SaPh -d Annotation/Proteins/ -o Pangenome -i 0.8"
   ]
  },
  {
   "cell_type": "markdown",
   "metadata": {},
   "source": [
    "Find genes that has 80% identity in at least 28% of genomes"
   ]
  },
  {
   "cell_type": "code",
   "execution_count": null,
   "metadata": {},
   "outputs": [],
   "source": [
    "! PanACoTA corepers -p Pangenome/PanGenome-SaPh.All.prt-clust-0.8-mode1.lst -o Coregenome -t 0.28"
   ]
  },
  {
   "cell_type": "markdown",
   "metadata": {},
   "source": [
    "Filter `Annotation/LSTINFO-.lst` file and leave there only entries that persist in `Coregenome` output"
   ]
  },
  {
   "cell_type": "code",
   "execution_count": 25,
   "metadata": {},
   "outputs": [
    {
     "name": "stdout",
     "output_type": "stream",
     "text": [
      "Filtered file created: Annotation/filtered_LSTINFO-.lst\n"
     ]
    }
   ],
   "source": [
    "%run scripts/process_LSTINFO.py Coregenome/PersGenome_PanGenome-SaPh.All.prt-clust-0.8-mode1.lst-all_0.28.lst Annotation/LSTINFO-.lst Annotation/filtered_LSTINFO-.lst"
   ]
  },
  {
   "cell_type": "markdown",
   "metadata": {},
   "source": [
    "Perform a Multiple Sequences Alignment of that one gene that was identified to have 80% identity in 28% of genomes!"
   ]
  },
  {
   "cell_type": "code",
   "execution_count": null,
   "metadata": {},
   "outputs": [],
   "source": [
    "! PanACoTA align -c Coregenome/PersGenome_PanGenome-SaPh.All.prt-clust-0.8-mode1.lst-all_0.28.lst -l Annotation/filtered_LSTINFO-.lst -n SaPh -d Annotation/ -o Alignment"
   ]
  },
  {
   "cell_type": "markdown",
   "metadata": {},
   "source": [
    "That's all! Proceed to the `02_DECIPHER_journal.R` to design degenerative PCR primers for that gene!"
   ]
  }
 ],
 "metadata": {
  "kernelspec": {
   "display_name": "panacota",
   "language": "python",
   "name": "python3"
  },
  "language_info": {
   "codemirror_mode": {
    "name": "ipython",
    "version": 3
   },
   "file_extension": ".py",
   "mimetype": "text/x-python",
   "name": "python",
   "nbconvert_exporter": "python",
   "pygments_lexer": "ipython3",
   "version": "3.12.4"
  }
 },
 "nbformat": 4,
 "nbformat_minor": 2
}
